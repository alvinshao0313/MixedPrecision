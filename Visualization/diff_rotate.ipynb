{
 "cells": [
  {
   "cell_type": "code",
   "execution_count": 24,
   "id": "897efbb8",
   "metadata": {},
   "outputs": [],
   "source": [
    "import torch\n",
    "import math\n"
   ]
  },
  {
   "cell_type": "markdown",
   "id": "b2f11a67",
   "metadata": {},
   "source": []
  },
  {
   "cell_type": "code",
   "execution_count": 25,
   "id": "f2431d0d",
   "metadata": {},
   "outputs": [],
   "source": [
    "\n",
    "def haar_matrix(n, dtype=torch.float32, device='cpu'):\n",
    "    \"\"\"\n",
    "    构造 n x n 的 Haar 变换矩阵，n 必须为 2 的幂次。\n",
    "    \"\"\"\n",
    "    if n < 2 or (n & (n - 1)) != 0:\n",
    "        raise ValueError(\"Haar matrix size must be a power of 2 and >= 2\")\n",
    "\n",
    "    def haar_recursive(n):\n",
    "        if n == 2:\n",
    "            return torch.tensor([[1., 1.],\n",
    "                                 [1., -1.]])\n",
    "        else:\n",
    "            H_n_1 = haar_recursive(n // 2)\n",
    "            top = torch.kron(H_n_1, torch.tensor([[1., 1.]]))\n",
    "            bottom = torch.kron(torch.eye(len(H_n_1)), torch.tensor([[1., -1.]]))\n",
    "            return torch.cat([top, bottom], dim=0)\n",
    "\n",
    "    H = haar_recursive(n) / math.sqrt(n)\n",
    "    return H.to(dtype=dtype, device=device)\n"
   ]
  },
  {
   "cell_type": "code",
   "execution_count": 26,
   "id": "a5841fb7",
   "metadata": {},
   "outputs": [
    {
     "name": "stdout",
     "output_type": "stream",
     "text": [
      "输入信号：\n",
      "tensor([1., 2., 3., 4.])\n",
      "haar 变换结果：\n",
      "tensor([[ 0.5000,  0.5000,  0.5000,  0.5000],\n",
      "        [ 0.5000,  0.5000, -0.5000, -0.5000],\n",
      "        [ 0.5000, -0.5000,  0.0000, -0.0000],\n",
      "        [ 0.0000, -0.0000,  0.5000, -0.5000]])\n",
      "Haar 变换矩阵：\n",
      "tensor([ 5.0000, -2.0000, -0.5000, -0.5000])\n"
     ]
    }
   ],
   "source": [
    "a = torch.tensor([1, 2, 3, 4], dtype=torch.float32)\n",
    "print(\"输入信号：\")\n",
    "print(a)\n",
    "print(\"haar 变换结果：\")\n",
    "H = haar_matrix(4, dtype=torch.float32)\n",
    "print(H)\n",
    "print(\"Haar 变换矩阵：\")\n",
    "print(H @ a)"
   ]
  },
  {
   "cell_type": "code",
   "execution_count": 27,
   "id": "3b82f17f",
   "metadata": {},
   "outputs": [],
   "source": [
    "def dct_matrix(n, dtype=torch.float32, device='cpu'):\n",
    "    \"\"\"\n",
    "    构造 n x n 的 DCT-II 正交变换矩阵。\n",
    "    \n",
    "    参数:\n",
    "        n: int, DCT 矩阵的大小\n",
    "        dtype: PyTorch 数据类型（默认 float32）\n",
    "        device: PyTorch 设备（默认 cpu）\n",
    "\n",
    "    返回:\n",
    "        DCT-II 类型的 n × n 正交变换矩阵\n",
    "    \"\"\"\n",
    "    D = torch.zeros((n, n), dtype=dtype, device=device)\n",
    "    for k in range(n):\n",
    "        for i in range(n):\n",
    "            alpha = math.sqrt(1.0 / n) if k == 0 else math.sqrt(2.0 / n)\n",
    "            D[k, i] = alpha * math.cos(math.pi * (2 * i + 1) * k / (2 * n))\n",
    "    return D"
   ]
  },
  {
   "cell_type": "code",
   "execution_count": 28,
   "id": "1e60de26",
   "metadata": {},
   "outputs": [
    {
     "name": "stdout",
     "output_type": "stream",
     "text": [
      "输入信号：\n",
      "tensor([1., 2., 3., 4.])\n",
      "DCT-II 变换结果：\n",
      "tensor([ 5.0000, -2.2304,  0.0000, -0.1585])\n"
     ]
    }
   ],
   "source": [
    "# DCT-II 变换\n",
    "a = torch.tensor([1, 2, 3, 4], dtype=torch.float32)\n",
    "print(\"输入信号：\")\n",
    "print(a)\n",
    "print(\"DCT-II 变换结果：\")\n",
    "D = dct_matrix(4, dtype=torch.float32)\n",
    "print(D @ a)"
   ]
  },
  {
   "cell_type": "code",
   "execution_count": 29,
   "id": "84afa524",
   "metadata": {},
   "outputs": [],
   "source": [
    "def dst_matrix(n, type=1, dtype=torch.float32, device='cpu'):\n",
    "    \"\"\"\n",
    "    构造离散正弦变换（DST）矩阵，支持类型 I 和 II。\n",
    "    \n",
    "    参数：\n",
    "        n (int): 变换矩阵的大小\n",
    "        type (int): DST 类型（1 或 2）\n",
    "        dtype: 数据类型（默认 float32）\n",
    "        device: PyTorch 设备（默认 'cpu'）\n",
    "\n",
    "    返回：\n",
    "        n × n 的 DST 矩阵（float tensor）\n",
    "    \"\"\"\n",
    "    if type not in [1, 2]:\n",
    "        raise ValueError(\"Only DST type 1 and 2 are supported.\")\n",
    "\n",
    "    S = torch.zeros((n, n), dtype=dtype, device=device)\n",
    "    if type == 1:\n",
    "        for k in range(n):\n",
    "            for i in range(n):\n",
    "                S[k, i] = math.sqrt(2.0 / (n + 1)) * math.sin(math.pi * (k + 1) * (i + 1) / (n + 1))\n",
    "    elif type == 2:\n",
    "        for k in range(n):\n",
    "            for i in range(n):\n",
    "                alpha = math.sqrt(2.0 / n)\n",
    "                S[k, i] = alpha * math.sin(math.pi * (2 * i + 1) * (k + 1) / (2 * n))\n",
    "    return S"
   ]
  },
  {
   "cell_type": "code",
   "execution_count": 30,
   "id": "c2d4de63",
   "metadata": {},
   "outputs": [
    {
     "name": "stdout",
     "output_type": "stream",
     "text": [
      "输入信号：\n",
      "tensor([1., 2., 3., 4.])\n",
      "DST-II 变换结果：\n",
      "tensor([ 4.6194, -2.0000,  1.9134, -1.4142])\n"
     ]
    }
   ],
   "source": [
    "# DST   变换\n",
    "a = torch.tensor([1, 2, 3, 4], dtype=torch.float32)\n",
    "print(\"输入信号：\")\n",
    "print(a)\n",
    "print(\"DST-II 变换结果：\")\n",
    "S = dst_matrix(4, type=2, dtype=torch.float32)\n",
    "print(S @ a)"
   ]
  }
 ],
 "metadata": {
  "kernelspec": {
   "display_name": "mixpre",
   "language": "python",
   "name": "python3"
  },
  "language_info": {
   "codemirror_mode": {
    "name": "ipython",
    "version": 3
   },
   "file_extension": ".py",
   "mimetype": "text/x-python",
   "name": "python",
   "nbconvert_exporter": "python",
   "pygments_lexer": "ipython3",
   "version": "3.10.16"
  }
 },
 "nbformat": 4,
 "nbformat_minor": 5
}
